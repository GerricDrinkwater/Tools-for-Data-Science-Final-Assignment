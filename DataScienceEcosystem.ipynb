{
 "cells": [
  {
   "cell_type": "markdown",
   "id": "163d67c4-5be1-4dc4-819d-5ccee2e86f02",
   "metadata": {},
   "source": [
    "***Exercise 2: Create markdown cell with title of the notebook***"
   ]
  },
  {
   "cell_type": "markdown",
   "id": "d6cb1d38-b7da-4c3a-abd4-2a3b68517289",
   "metadata": {},
   "source": [
    "# Data Science Tools and Ecosystem\n"
   ]
  },
  {
   "cell_type": "markdown",
   "id": "97a836bc-afaa-4136-988b-fd5a2fd4e24d",
   "metadata": {},
   "source": [
    "***Exercise 3 - Create a markdown cell for an introduction***"
   ]
  },
  {
   "cell_type": "markdown",
   "id": "77eeef76-5c86-4cc9-b305-404d94c1fbc0",
   "metadata": {},
   "source": [
    "In this notebook, Data Science Tools and Ecosystem are summarized."
   ]
  },
  {
   "cell_type": "markdown",
   "id": "a2af6dea-cb35-4619-8df5-724b8346e68b",
   "metadata": {},
   "source": [
    "***Exercise 4 - Create a markdown cell to list data science languages***"
   ]
  },
  {
   "cell_type": "markdown",
   "id": "5c0ff930-7d70-4279-9087-505bf756865a",
   "metadata": {},
   "source": [
    "Some of the popular languages that Data Scientists use are:\n",
    "\n",
    "1. Python\n",
    "2. R\n",
    "3. SQL\n",
    "4. Julia\n",
    "5. Scala\n"
   ]
  },
  {
   "cell_type": "markdown",
   "id": "12e2cba1-9017-4538-a3fd-ac585092f318",
   "metadata": {},
   "source": [
    "***Exercise 5 - Create a markdown cell to list data science libraries***"
   ]
  },
  {
   "cell_type": "markdown",
   "id": "dbc354d2-aadf-4e4d-b22f-91a30751b558",
   "metadata": {},
   "source": [
    "Some of the commonly used libraries used by Data Scientists include:\n",
    "\n",
    "1. Pandas\n",
    "2. NumPy\n",
    "3. Matplotlib\n",
    "4. Seaborn\n",
    "5. Scikit-learn\n",
    "6. Keras\n",
    "7. TensorFlow\n",
    "8. PyTorch\n"
   ]
  },
  {
   "cell_type": "markdown",
   "id": "17ab6c59-7573-4923-8aa2-0dc6d75831a3",
   "metadata": {},
   "source": [
    "***Exercise 6 - Create a markdown cell with a table of Data Science tools***"
   ]
  },
  {
   "cell_type": "markdown",
   "id": "a4f8dbda-72f9-4dde-9290-690490ab5ffe",
   "metadata": {},
   "source": [
    "| Data Science Tools          |\n",
    "|-----------------------------|\n",
    "| Jupyter Notebook             |\n",
    "| RStudio                      |\n",
    "| Apache Zeppelin              |\n"
   ]
  },
  {
   "cell_type": "markdown",
   "id": "029a1486-8a75-43d4-a7aa-05a5b044e241",
   "metadata": {},
   "source": [
    "***Exercise 7 - Create a markdown cell introducing arithmetic expression examples***"
   ]
  },
  {
   "cell_type": "markdown",
   "id": "cb75efa6-ac36-4caa-88cb-364995b0bf6a",
   "metadata": {},
   "source": [
    "### Below are a few examples of evaluating arithmetic expressions in Python.\n"
   ]
  },
  {
   "cell_type": "markdown",
   "id": "6d844cb2-67f7-4b78-8f88-bcabce2f0202",
   "metadata": {},
   "source": [
    "***Exercise 8 - Create a code cell to multiply and add numbers***"
   ]
  },
  {
   "cell_type": "code",
   "execution_count": 1,
   "id": "883756e8-20f8-420b-b226-29a19504bbdf",
   "metadata": {
    "tags": []
   },
   "outputs": [
    {
     "data": {
      "text/plain": [
       "17"
      ]
     },
     "execution_count": 1,
     "metadata": {},
     "output_type": "execute_result"
    }
   ],
   "source": [
    "# This is a simple arithmetic expression to multiply then add integers\n",
    "(3 * 4) + 5\n"
   ]
  },
  {
   "cell_type": "markdown",
   "id": "75a7ddaf-1cee-433d-8346-5a01ea8835f3",
   "metadata": {},
   "source": [
    "***Exercise 9 - Create a code cell to convert minutes to hours***"
   ]
  },
  {
   "cell_type": "code",
   "execution_count": 4,
   "id": "241ee144-3f53-4069-8edb-b8d5ef9b817d",
   "metadata": {
    "tags": []
   },
   "outputs": [
    {
     "data": {
      "text/plain": [
       "3.3333333333333335"
      ]
     },
     "execution_count": 4,
     "metadata": {},
     "output_type": "execute_result"
    }
   ],
   "source": [
    "# This will convert 200 minutes to hours by dividing by 60\n",
    "200 / 60"
   ]
  },
  {
   "cell_type": "markdown",
   "id": "dfd70025-66d5-41e5-ac72-dd0c7d026a0e",
   "metadata": {},
   "source": [
    "***Exercise 10 - Insert a markdown cell to list Objectives***"
   ]
  },
  {
   "cell_type": "markdown",
   "id": "3e3a9367-70a1-4fa7-8c44-347e0bb7e8b0",
   "metadata": {
    "tags": []
   },
   "source": [
    "**Objectives:**\n",
    "\n",
    "- List popular languages for Data Science\n",
    "- List commonly used libraries in Data Science\n",
    "- Create and work with markdown cells in Jupyter Notebook\n",
    "- Perform basic arithmetic operations in Python\n",
    "- Convert time from minutes to hours using a Python expression\n"
   ]
  },
  {
   "cell_type": "markdown",
   "id": "d689f9ec-3dba-44fe-a5a9-9db2983b149a",
   "metadata": {},
   "source": [
    "***Exercise 11 - Create a markdown cell to indicate the Author's name***"
   ]
  },
  {
   "cell_type": "markdown",
   "id": "4f5cff74-0101-487d-a77b-e6ccc999f809",
   "metadata": {},
   "source": [
    "## Author\n",
    "Jerick Ferrer Altamerano\n"
   ]
  }
 ],
 "metadata": {
  "kernelspec": {
   "display_name": "Python",
   "language": "python",
   "name": "conda-env-python-py"
  },
  "language_info": {
   "codemirror_mode": {
    "name": "ipython",
    "version": 3
   },
   "file_extension": ".py",
   "mimetype": "text/x-python",
   "name": "python",
   "nbconvert_exporter": "python",
   "pygments_lexer": "ipython3",
   "version": "3.7.12"
  }
 },
 "nbformat": 4,
 "nbformat_minor": 5
}
